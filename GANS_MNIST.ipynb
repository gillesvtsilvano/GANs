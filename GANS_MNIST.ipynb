{
  "nbformat": 4,
  "nbformat_minor": 0,
  "metadata": {
    "colab": {
      "name": "GANS - MNIST.ipynb",
      "version": "0.3.2",
      "provenance": [],
      "include_colab_link": true
    },
    "kernelspec": {
      "name": "python3",
      "display_name": "Python 3"
    }
  },
  "cells": [
    {
      "cell_type": "markdown",
      "metadata": {
        "id": "view-in-github",
        "colab_type": "text"
      },
      "source": [
        "<a href=\"https://colab.research.google.com/github/gillesvtsilvano/GANs/blob/master/GANS_MNIST.ipynb\" target=\"_parent\"><img src=\"https://colab.research.google.com/assets/colab-badge.svg\" alt=\"Open In Colab\"/></a>"
      ]
    },
    {
      "metadata": {
        "id": "-Phqh61W-ii5",
        "colab_type": "text"
      },
      "cell_type": "markdown",
      "source": [
        "Esse exemplo segue o tutorial que pode ser encontrado [aqui](https://hub.packtpub.com/generative-adversarial-networks-using-keras/).\n",
        "\n",
        "Para trabalhos futuros, observar:\n",
        "* [Step-by-step](https://www.kdnuggets.com/2017/10/seven-steps-deep-learning-keras.html).\n",
        "* Repositório do [Keras implementations of Generative Adversarial Networks](https://github.com/eriklindernoren/Keras-GAN)"
      ]
    },
    {
      "metadata": {
        "id": "Z6bnXGXs-uHh",
        "colab_type": "text"
      },
      "cell_type": "markdown",
      "source": [
        "# Introdução\n",
        "\n",
        "O dataset utilizado será o MNIST (Modified National Institute of Standards and Technology database), dataset clássico contendo 60,000 caracteres números (0-9) escritos à mão. Esse dataset não oferece nenhum desafio (já foram superados), porém, é um ótimo exemplo para prova de conceito ou para aprender alguma conteúdo relacionado ao aprendizado de máquina, nesse caso,  Generative Adversarial Networks (GANs)."
      ]
    },
    {
      "metadata": {
        "id": "UfalsIZE_iaB",
        "colab_type": "code",
        "colab": {
          "base_uri": "https://localhost:8080/",
          "height": 35
        },
        "outputId": "51ecc704-1e51-4acf-92fd-6512a6345141"
      },
      "cell_type": "code",
      "source": [
        "from keras.datasets import mnist #Loading MNIST dataset"
      ],
      "execution_count": 1,
      "outputs": [
        {
          "output_type": "stream",
          "text": [
            "Using TensorFlow backend.\n"
          ],
          "name": "stderr"
        }
      ]
    },
    {
      "metadata": {
        "id": "Lt0SEhZH_ZIV",
        "colab_type": "text"
      },
      "cell_type": "markdown",
      "source": [
        "<span style=\"color: red\">TODO</span>\n",
        "As GANs são compostas por duas redes neurais, uma Geradora (Generative) e outra Descritiva, que jogam _minmax_ uma contra a outra (Adversarial), no intuito de que a Descritiva evolua com base nos exemplos gerados pela Geradora, que aprenderá cada vez mais a gerar melhores exemplos, melhorando a qualidade do aprendizado da Descritiva.\n",
        "\n"
      ]
    },
    {
      "metadata": {
        "id": "ePz_N8N5DA74",
        "colab_type": "code",
        "colab": {}
      },
      "cell_type": "code",
      "source": [
        ""
      ],
      "execution_count": 0,
      "outputs": []
    }
  ]
}